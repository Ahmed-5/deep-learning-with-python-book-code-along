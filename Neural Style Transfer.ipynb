{
 "cells": [
  {
   "cell_type": "code",
   "execution_count": 1,
   "metadata": {},
   "outputs": [
    {
     "name": "stderr",
     "output_type": "stream",
     "text": [
      "C:\\Anaconda3\\lib\\site-packages\\h5py\\__init__.py:36: FutureWarning: Conversion of the second argument of issubdtype from `float` to `np.floating` is deprecated. In future, it will be treated as `np.float64 == np.dtype(float).type`.\n",
      "  from ._conv import register_converters as _register_converters\n",
      "Using TensorFlow backend.\n"
     ]
    }
   ],
   "source": [
    "from keras.preprocessing.image import img_to_array, load_img\n",
    "\n",
    "target_img_path = '...'\n",
    "style_reference_image_path = '...'\n",
    "\n",
    "width, height = load_img(target_img_path).size\n",
    "img_height = 400\n",
    "img_width = 400"
   ]
  },
  {
   "cell_type": "code",
   "execution_count": 2,
   "metadata": {},
   "outputs": [],
   "source": [
    "import numpy as np\n",
    "from keras.applications import vgg19\n",
    "\n",
    "def preprocess_image(image_path):\n",
    "    img = load_img(image_path, target_size=(img_height, img_width))\n",
    "    img = img_to_array(img)\n",
    "    img = np.expand_dims(img, axis=0)\n",
    "    img = vgg19.preprocess_input(img)\n",
    "    return img\n",
    "\n",
    "def deprocess_image(x):\n",
    "    x[:,:,0] += 103.939\n",
    "    x[:,:,1] += 116.779\n",
    "    x[:,:,2] += 123.68\n",
    "    x = x[:,:,::-1]\n",
    "    x = np.clip(x, 0, 255).astype('uint8')\n",
    "    return x"
   ]
  },
  {
   "cell_type": "code",
   "execution_count": 3,
   "metadata": {},
   "outputs": [
    {
     "name": "stdout",
     "output_type": "stream",
     "text": [
      "Model loaded.\n"
     ]
    }
   ],
   "source": [
    "from keras import backend as K\n",
    "\n",
    "target_image = K.constant(preprocess_image(target_img_path))\n",
    "style_reference_image = K.constant(preprocess_image(style_reference_image_path))\n",
    "combination_image = K.placeholder((1, img_height, img_width, 3))\n",
    "\n",
    "input_tensor = K.concatenate([target_image, style_reference_image, combination_image], axis=0)\n",
    "\n",
    "model = vgg19.VGG19(input_tensor=input_tensor, weights=None, include_top=False)\n",
    "model.load_weights('C:/Users/Ahmed/.keras/models/vgg19_weights_tf_dim_ordering_tf_kernels_notop.h5')\n",
    "\n",
    "print('Model loaded.')"
   ]
  },
  {
   "cell_type": "code",
   "execution_count": 4,
   "metadata": {},
   "outputs": [],
   "source": [
    "def content_loss(base, combination):\n",
    "    return K.sum(K.square(combination - base))\n",
    "\n",
    "def gram_mat(x):\n",
    "    features = K.batch_flatten(K.permute_dimensions(x, (2, 0, 1)))\n",
    "    gram = K.dot(features, K.transpose(features))\n",
    "    return gram\n",
    "\n",
    "def style_loss(style, combination):\n",
    "    S = gram_mat(style)\n",
    "    C = gram_mat(combination)\n",
    "    channels = 3\n",
    "    size = img_height*img_width\n",
    "    return K.sum(K.square(S - C) / (4.* (size**2) * (channels**2)))\n",
    "\n",
    "def total_variation_loss(x):\n",
    "    a = K.square(x[:, :img_height-1, :img_width-1, :] - x[:, 1:, :img_width-1, :])\n",
    "    b = K.square(x[:, :img_height-1, :img_width-1, :] - x[:, :img_height-1, 1:, :])\n",
    "    return K.sum(K.pow(a+b, 1.25))"
   ]
  },
  {
   "cell_type": "code",
   "execution_count": 5,
   "metadata": {},
   "outputs": [],
   "source": [
    "output_dict = dict([(layer.name, layer.output) for layer in model.layers])\n",
    "content_layer = 'block5_conv2'\n",
    "style_layers = ['block1_conv1', 'block2_conv1', 'block3_conv1', 'block4_conv1', 'block5_conv1']\n",
    "\n",
    "total_variation_weight = 1e-4\n",
    "style_weight = 1.\n",
    "content_weight = 0.025"
   ]
  },
  {
   "cell_type": "code",
   "execution_count": 6,
   "metadata": {},
   "outputs": [
    {
     "name": "stdout",
     "output_type": "stream",
     "text": [
      "WARNING:tensorflow:Variable += will be deprecated. Use variable.assign_add if you want assignment to the variable value or 'x = x + y' if you want a new python Tensor object.\n"
     ]
    }
   ],
   "source": [
    "loss = K.variable(0.)\n",
    "layer_features = output_dict[content_layer]\n",
    "target_image_features = layer_features[0, :, :, :]\n",
    "combination_features = layer_features[2, :, :, :]\n",
    "loss += content_weight*content_loss(target_image_features, combination_features)\n",
    "\n",
    "for layer_name in style_layers:\n",
    "    layer_features = output_dict[layer_name]\n",
    "    style_reference_features = layer_features[1, :, :, :]\n",
    "    combination_features = layer_features[2, :, :, :]\n",
    "    sl = style_loss(style_reference_features, combination_features)\n",
    "    loss += (style_weight/len(style_layers))*sl\n",
    "    \n",
    "loss += total_variation_weight*total_variation_loss(combination_image)"
   ]
  },
  {
   "cell_type": "code",
   "execution_count": 7,
   "metadata": {},
   "outputs": [],
   "source": [
    "grads = K.gradients(loss, combination_image)[0]\n",
    "\n",
    "fetch_loss_and_grads = K.function([combination_image], [loss, grads])\n",
    "\n",
    "class Evaluator(object):\n",
    "    def __init__(self):\n",
    "        self.loss_value = None\n",
    "        self.grad_values = None\n",
    "        \n",
    "    def loss(self, x):\n",
    "        assert self.loss_value is None\n",
    "        x = x.reshape([1, img_height, img_width, 3])\n",
    "        outs = fetch_loss_and_grads([x])\n",
    "        loss_value = outs[0]\n",
    "        grad_values = outs[1].flatten().astype('float64')\n",
    "        self.loss_value = loss_value\n",
    "        self.grad_values = grad_values\n",
    "        return self.loss_value\n",
    "    \n",
    "    def grads(self, x):\n",
    "        assert self.loss_value is not None\n",
    "        grad_values = np.copy(self.grad_values)\n",
    "        self.loss_value = None\n",
    "        self.grad_values = None\n",
    "        return grad_values\n",
    "    \n",
    "evaluator = Evaluator()"
   ]
  },
  {
   "cell_type": "markdown",
   "metadata": {},
   "source": [
    "#  Adding Style to the Content Image"
   ]
  },
  {
   "cell_type": "code",
   "execution_count": 8,
   "metadata": {},
   "outputs": [
    {
     "name": "stdout",
     "output_type": "stream",
     "text": [
      "Start of iteration 1\n",
      "Current loss value: 28345752000.0\n",
      "Image saved as my_result_at_iter_1.png\n",
      "Iteration 1 completed in 584s\n",
      "Start of iteration 2\n"
     ]
    },
    {
     "name": "stderr",
     "output_type": "stream",
     "text": [
      "C:\\Anaconda3\\lib\\site-packages\\ipykernel_launcher.py:20: DeprecationWarning: `imsave` is deprecated!\n",
      "`imsave` is deprecated in SciPy 1.0.0, and will be removed in 1.2.0.\n",
      "Use ``imageio.imwrite`` instead.\n"
     ]
    },
    {
     "name": "stdout",
     "output_type": "stream",
     "text": [
      "Current loss value: 6560500000.0\n",
      "Image saved as my_result_at_iter_2.png\n",
      "Iteration 2 completed in 597s\n",
      "Start of iteration 3\n",
      "Current loss value: 4029869800.0\n",
      "Image saved as my_result_at_iter_3.png\n",
      "Iteration 3 completed in 596s\n",
      "Start of iteration 4\n",
      "Current loss value: 2894352600.0\n",
      "Image saved as my_result_at_iter_4.png\n",
      "Iteration 4 completed in 594s\n",
      "Start of iteration 5\n",
      "Current loss value: 2306539800.0\n",
      "Image saved as my_result_at_iter_5.png\n",
      "Iteration 5 completed in 592s\n",
      "Start of iteration 6\n",
      "Current loss value: 1948662100.0\n",
      "Image saved as my_result_at_iter_6.png\n",
      "Iteration 6 completed in 593s\n",
      "Start of iteration 7\n",
      "Current loss value: 1688664200.0\n",
      "Image saved as my_result_at_iter_7.png\n",
      "Iteration 7 completed in 577s\n",
      "Start of iteration 8\n",
      "Current loss value: 1515555600.0\n",
      "Image saved as my_result_at_iter_8.png\n",
      "Iteration 8 completed in 579s\n",
      "Start of iteration 9\n",
      "Current loss value: 1370147000.0\n",
      "Image saved as my_result_at_iter_9.png\n",
      "Iteration 9 completed in 586s\n",
      "Start of iteration 10\n",
      "Current loss value: 1245109500.0\n",
      "Image saved as my_result_at_iter_10.png\n",
      "Iteration 10 completed in 588s\n",
      "Start of iteration 11\n",
      "Current loss value: 1144330400.0\n",
      "Image saved as my_result_at_iter_11.png\n",
      "Iteration 11 completed in 581s\n",
      "Start of iteration 12\n",
      "Current loss value: 1063197300.0\n",
      "Image saved as my_result_at_iter_12.png\n",
      "Iteration 12 completed in 577s\n",
      "Start of iteration 13\n",
      "Current loss value: 992093630.0\n",
      "Image saved as my_result_at_iter_13.png\n",
      "Iteration 13 completed in 579s\n",
      "Start of iteration 14\n",
      "Current loss value: 910116030.0\n",
      "Image saved as my_result_at_iter_14.png\n",
      "Iteration 14 completed in 582s\n",
      "Start of iteration 15\n",
      "Current loss value: 846670600.0\n",
      "Image saved as my_result_at_iter_15.png\n",
      "Iteration 15 completed in 577s\n",
      "Start of iteration 16\n",
      "Current loss value: 797689900.0\n",
      "Image saved as my_result_at_iter_16.png\n",
      "Iteration 16 completed in 572s\n",
      "Start of iteration 17\n",
      "Current loss value: 742262700.0\n",
      "Image saved as my_result_at_iter_17.png\n",
      "Iteration 17 completed in 583s\n",
      "Start of iteration 18\n",
      "Current loss value: 696251800.0\n",
      "Image saved as my_result_at_iter_18.png\n",
      "Iteration 18 completed in 587s\n",
      "Start of iteration 19\n",
      "Current loss value: 660050050.0\n",
      "Image saved as my_result_at_iter_19.png\n",
      "Iteration 19 completed in 578s\n",
      "Start of iteration 20\n",
      "Current loss value: 631841340.0\n",
      "Image saved as my_result_at_iter_20.png\n",
      "Iteration 20 completed in 580s\n"
     ]
    }
   ],
   "source": [
    "from scipy.optimize import fmin_l_bfgs_b\n",
    "from scipy.misc import imsave\n",
    "import time\n",
    "\n",
    "result_prefix = 'my_result'\n",
    "iterations = 20\n",
    "\n",
    "# x = preprocess_image(target_img_path)\n",
    "x = black_image()\n",
    "x = x.flatten()\n",
    "\n",
    "for i in range(iterations):\n",
    "    print('Start of iteration', i+1)\n",
    "    start_time = time.time()\n",
    "    x, min_val, info = fmin_l_bfgs_b(evaluator.loss, x, fprime=evaluator.grads, maxfun=20)\n",
    "    print('Current loss value:', min_val)\n",
    "    img = x.copy().reshape((img_height, img_width, 3))\n",
    "    img = deprocess_image(img)\n",
    "    fname = result_prefix + '_at_iter_%d.png' %(i+1)\n",
    "    imsave(fname, img)\n",
    "    print('Image saved as '+fname)\n",
    "    end_time = time.time()\n",
    "    print('Iteration %d completed in %ds'%(i+1, end_time-start_time))"
   ]
  },
  {
   "cell_type": "code",
   "execution_count": null,
   "metadata": {},
   "outputs": [],
   "source": []
  }
 ],
 "metadata": {
  "kernelspec": {
   "display_name": "Python 3",
   "language": "python",
   "name": "python3"
  },
  "language_info": {
   "codemirror_mode": {
    "name": "ipython",
    "version": 3
   },
   "file_extension": ".py",
   "mimetype": "text/x-python",
   "name": "python",
   "nbconvert_exporter": "python",
   "pygments_lexer": "ipython3",
   "version": "3.6.4"
  }
 },
 "nbformat": 4,
 "nbformat_minor": 2
}
