{
 "cells": [
  {
   "cell_type": "code",
   "execution_count": 1,
   "metadata": {},
   "outputs": [
    {
     "name": "stderr",
     "output_type": "stream",
     "text": [
      "Using TensorFlow backend.\n"
     ]
    }
   ],
   "source": [
    "from keras.datasets import mnist"
   ]
  },
  {
   "cell_type": "code",
   "execution_count": 2,
   "metadata": {},
   "outputs": [],
   "source": [
    "(train_images,train_labels),(test_images,test_labels) = mnist.load_data()"
   ]
  },
  {
   "cell_type": "code",
   "execution_count": 3,
   "metadata": {},
   "outputs": [
    {
     "name": "stdout",
     "output_type": "stream",
     "text": [
      "3\n",
      "(60000, 28, 28)\n",
      "uint8\n",
      "[5 0 4 ..., 5 6 8]\n"
     ]
    }
   ],
   "source": [
    "print(train_images.ndim)\n",
    "print(train_images.shape)\n",
    "print(train_images.dtype)\n",
    "print(train_labels)"
   ]
  },
  {
   "cell_type": "code",
   "execution_count": 4,
   "metadata": {},
   "outputs": [
    {
     "data": {
      "text/plain": [
       "<matplotlib.image.AxesImage at 0x44c3215208>"
      ]
     },
     "execution_count": 4,
     "metadata": {},
     "output_type": "execute_result"
    },
    {
     "data": {
      "image/png": "[encoded data removed]",
      "text/plain": [
       "<matplotlib.figure.Figure at 0x44c7a06f60>"
      ]
     },
     "metadata": {},
     "output_type": "display_data"
    }
   ],
   "source": [
    "import matplotlib.pyplot as plt\n",
    "%matplotlib inline\n",
    "\n",
    "digit = train_images[1]\n",
    "plt.imshow(digit, cmap=plt.cm.binary)"
   ]
  },
  {
   "cell_type": "code",
   "execution_count": 5,
   "metadata": {},
   "outputs": [],
   "source": [
    "from keras import layers,models\n",
    "\n",
    "network = models.Sequential()\n",
    "network.add(layers.Dense(512, activation=\"relu\", input_shape=(28*28,)))\n",
    "network.add(layers.Dense(10, activation=\"softmax\"))"
   ]
  },
  {
   "cell_type": "code",
   "execution_count": 6,
   "metadata": {},
   "outputs": [],
   "source": [
    "network.compile(optimizer=\"rmsprop\",loss=\"categorical_crossentropy\",metrics=[\"accuracy\"])"
   ]
  },
  {
   "cell_type": "code",
   "execution_count": 7,
   "metadata": {},
   "outputs": [],
   "source": [
    "train_images = train_images.reshape((60000,28*28))\n",
    "train_images = train_images.astype(\"float32\") / 255\n",
    "\n",
    "test_images = test_images.reshape((10000,28*28))\n",
    "test_images = test_images.astype(\"float32\") / 255"
   ]
  },
  {
   "cell_type": "code",
   "execution_count": 8,
   "metadata": {},
   "outputs": [],
   "source": [
    "from keras.utils import to_categorical"
   ]
  },
  {
   "cell_type": "code",
   "execution_count": 9,
   "metadata": {},
   "outputs": [],
   "source": [
    "train_labels = to_categorical(train_labels)\n",
    "test_labels = to_categorical(test_labels)"
   ]
  },
  {
   "cell_type": "code",
   "execution_count": 10,
   "metadata": {},
   "outputs": [
    {
     "name": "stdout",
     "output_type": "stream",
     "text": [
      "Epoch 1/50\n",
      "60000/60000 [==============================] - 6s 105us/step - loss: 0.2511 - acc: 0.9280\n",
      "Epoch 2/50\n",
      "60000/60000 [==============================] - 7s 112us/step - loss: 0.1022 - acc: 0.9693\n",
      "Epoch 3/50\n",
      "60000/60000 [==============================] - 7s 113us/step - loss: 0.0675 - acc: 0.9799\n",
      "Epoch 4/50\n",
      "60000/60000 [==============================] - 7s 111us/step - loss: 0.0490 - acc: 0.9854\n",
      "Epoch 5/50\n",
      "60000/60000 [==============================] - 6s 102us/step - loss: 0.0370 - acc: 0.9890\n",
      "Epoch 6/50\n",
      "60000/60000 [==============================] - 6s 102us/step - loss: 0.0276 - acc: 0.9914\n",
      "Epoch 7/50\n",
      "60000/60000 [==============================] - 6s 102us/step - loss: 0.0221 - acc: 0.9933\n",
      "Epoch 8/50\n",
      "60000/60000 [==============================] - 6s 104us/step - loss: 0.0167 - acc: 0.9952\n",
      "Epoch 9/50\n",
      "60000/60000 [==============================] - 6s 106us/step - loss: 0.0132 - acc: 0.9961\n",
      "Epoch 10/50\n",
      "60000/60000 [==============================] - 6s 104us/step - loss: 0.0104 - acc: 0.9969\n",
      "Epoch 11/50\n",
      "60000/60000 [==============================] - 6s 108us/step - loss: 0.0083 - acc: 0.9977\n",
      "Epoch 12/50\n",
      "60000/60000 [==============================] - 7s 118us/step - loss: 0.0065 - acc: 0.9982\n",
      "Epoch 13/50\n",
      "60000/60000 [==============================] - 7s 120us/step - loss: 0.0049 - acc: 0.9989\n",
      "Epoch 14/50\n",
      "60000/60000 [==============================] - 7s 109us/step - loss: 0.0039 - acc: 0.9990\n",
      "Epoch 15/50\n",
      "60000/60000 [==============================] - 6s 107us/step - loss: 0.0033 - acc: 0.9991\n",
      "Epoch 16/50\n",
      "60000/60000 [==============================] - 6s 107us/step - loss: 0.0028 - acc: 0.9992\n",
      "Epoch 17/50\n",
      "60000/60000 [==============================] - 6s 108us/step - loss: 0.0021 - acc: 0.9995\n",
      "Epoch 18/50\n",
      "60000/60000 [==============================] - 6s 108us/step - loss: 0.0018 - acc: 0.9996\n",
      "Epoch 19/50\n",
      "60000/60000 [==============================] - 6s 108us/step - loss: 0.0013 - acc: 0.9998\n",
      "Epoch 20/50\n",
      "60000/60000 [==============================] - 7s 111us/step - loss: 0.0014 - acc: 0.9996\n",
      "Epoch 21/50\n",
      "60000/60000 [==============================] - 8s 134us/step - loss: 0.0010 - acc: 0.9998\n",
      "Epoch 22/50\n",
      "60000/60000 [==============================] - 8s 135us/step - loss: 9.5437e-04 - acc: 0.9998\n",
      "Epoch 23/50\n",
      "60000/60000 [==============================] - 7s 118us/step - loss: 7.7142e-04 - acc: 0.9999\n",
      "Epoch 24/50\n",
      "60000/60000 [==============================] - 7s 112us/step - loss: 8.5761e-04 - acc: 0.9998\n",
      "Epoch 25/50\n",
      "60000/60000 [==============================] - 7s 114us/step - loss: 6.5483e-04 - acc: 0.9999\n",
      "Epoch 26/50\n",
      "60000/60000 [==============================] - 7s 116us/step - loss: 6.3902e-04 - acc: 0.9999\n",
      "Epoch 27/50\n",
      "60000/60000 [==============================] - 7s 116us/step - loss: 4.1592e-04 - acc: 1.0000\n",
      "Epoch 28/50\n",
      "60000/60000 [==============================] - 8s 128us/step - loss: 4.8803e-04 - acc: 0.9999\n",
      "Epoch 29/50\n",
      "60000/60000 [==============================] - 8s 138us/step - loss: 3.8605e-04 - acc: 0.9999\n",
      "Epoch 30/50\n",
      "60000/60000 [==============================] - 8s 130us/step - loss: 4.3843e-04 - acc: 1.0000 0s - loss: 4.4005e-04 - acc: 0.999\n",
      "Epoch 31/50\n",
      "60000/60000 [==============================] - 8s 125us/step - loss: 3.6717e-04 - acc: 1.0000\n",
      "Epoch 32/50\n",
      "60000/60000 [==============================] - 7s 114us/step - loss: 3.9951e-04 - acc: 1.0000\n",
      "Epoch 33/50\n",
      "60000/60000 [==============================] - 7s 116us/step - loss: 3.5722e-04 - acc: 1.0000\n",
      "Epoch 34/50\n",
      "60000/60000 [==============================] - 7s 115us/step - loss: 3.2351e-04 - acc: 1.0000\n",
      "Epoch 35/50\n",
      "60000/60000 [==============================] - 7s 115us/step - loss: 3.2233e-04 - acc: 1.0000\n",
      "Epoch 36/50\n",
      "60000/60000 [==============================] - 7s 115us/step - loss: 3.5794e-04 - acc: 0.9999\n",
      "Epoch 37/50\n",
      "60000/60000 [==============================] - 8s 126us/step - loss: 3.0477e-04 - acc: 1.0000\n",
      "Epoch 38/50\n",
      "60000/60000 [==============================] - 8s 132us/step - loss: 2.8347e-04 - acc: 1.0000 1s - loss: \n",
      "Epoch 39/50\n",
      "60000/60000 [==============================] - 8s 131us/step - loss: 2.7185e-04 - acc: 1.0000\n",
      "Epoch 40/50\n",
      "60000/60000 [==============================] - 7s 116us/step - loss: 3.2619e-04 - acc: 1.0000\n",
      "Epoch 41/50\n",
      "60000/60000 [==============================] - 7s 116us/step - loss: 2.6964e-04 - acc: 1.0000\n",
      "Epoch 42/50\n",
      "60000/60000 [==============================] - 7s 116us/step - loss: 2.7329e-04 - acc: 1.0000\n",
      "Epoch 43/50\n",
      "60000/60000 [==============================] - 7s 116us/step - loss: 2.6905e-04 - acc: 1.0000\n",
      "Epoch 44/50\n",
      "60000/60000 [==============================] - 7s 117us/step - loss: 2.6878e-04 - acc: 1.0000\n",
      "Epoch 45/50\n",
      "60000/60000 [==============================] - 7s 123us/step - loss: 2.6877e-04 - acc: 1.0000 1s - \n",
      "Epoch 46/50\n",
      "60000/60000 [==============================] - ETA: 0s - loss: 2.7035e-04 - acc: 1.000 - 8s 133us/step - loss: 2.6877e-04 - acc: 1.0000\n",
      "Epoch 47/50\n",
      "60000/60000 [==============================] - 8s 133us/step - loss: 2.6877e-04 - acc: 1.0000\n",
      "Epoch 48/50\n",
      "60000/60000 [==============================] - 7s 121us/step - loss: 2.6876e-04 - acc: 1.0000\n",
      "Epoch 49/50\n",
      "60000/60000 [==============================] - 7s 117us/step - loss: 2.6876e-04 - acc: 1.0000\n",
      "Epoch 50/50\n",
      "60000/60000 [==============================] - 7s 119us/step - loss: 2.6876e-04 - acc: 1.0000\n"
     ]
    },
    {
     "data": {
      "text/plain": [
       "<keras.callbacks.History at 0x44c22a17f0>"
      ]
     },
     "execution_count": 10,
     "metadata": {},
     "output_type": "execute_result"
    }
   ],
   "source": [
    "network.fit(train_images, train_labels, epochs=50, batch_size=128)"
   ]
  },
  {
   "cell_type": "code",
   "execution_count": 11,
   "metadata": {},
   "outputs": [
    {
     "name": "stdout",
     "output_type": "stream",
     "text": [
      "10000/10000 [==============================] - 1s 66us/step\n",
      "test acc: 0.9848\n"
     ]
    }
   ],
   "source": [
    "test_loss, test_acc = network.evaluate(test_images, test_labels)\n",
    "print(\"test acc: {}\".format(test_acc))"
   ]
  },
  {
   "cell_type": "code",
   "execution_count": null,
   "metadata": {},
   "outputs": [],
   "source": []
  }
 ],
 "metadata": {
  "kernelspec": {
   "display_name": "Python 3",
   "language": "python",
   "name": "python3"
  },
  "language_info": {
   "codemirror_mode": {
    "name": "ipython",
    "version": 3
   },
   "file_extension": ".py",
   "mimetype": "text/x-python",
   "name": "python",
   "nbconvert_exporter": "python",
   "pygments_lexer": "ipython3",
   "version": "3.6.4"
  }
 },
 "nbformat": 4,
 "nbformat_minor": 2
}
