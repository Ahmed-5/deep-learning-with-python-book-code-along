{
 "cells": [
  {
   "cell_type": "code",
   "execution_count": 1,
   "metadata": {},
   "outputs": [
    {
     "name": "stderr",
     "output_type": "stream",
     "text": [
      "Using TensorFlow backend.\n"
     ]
    }
   ],
   "source": [
    "from keras.datasets import boston_housing"
   ]
  },
  {
   "cell_type": "code",
   "execution_count": 2,
   "metadata": {},
   "outputs": [],
   "source": [
    "(train_data,train_targets),(test_data,test_targets) = boston_housing.load_data()"
   ]
  },
  {
   "cell_type": "code",
   "execution_count": 3,
   "metadata": {},
   "outputs": [
    {
     "name": "stdout",
     "output_type": "stream",
     "text": [
      "2\n",
      "(404, 13)\n",
      "float64\n",
      "[ 15.2  42.3  50.   21.1  17.7  18.5  11.3  15.6  15.6  14.4  12.1  17.9\n",
      "  23.1  19.9  15.7   8.8  50.   22.5  24.1  27.5  10.9  30.8  32.9  24.\n",
      "  18.5  13.3  22.9  34.7  16.6  17.5  22.3  16.1  14.9  23.1  34.9  25.\n",
      "  13.9  13.1  20.4  20.   15.2  24.7  22.2  16.7  12.7  15.6  18.4  21.\n",
      "  30.1  15.1  18.7   9.6  31.5  24.8  19.1  22.   14.5  11.   32.   29.4\n",
      "  20.3  24.4  14.6  19.5  14.1  14.3  15.6  10.5   6.3  19.3  19.3  13.4\n",
      "  36.4  17.8  13.5  16.5   8.3  14.3  16.   13.4  28.6  43.5  20.2  22.\n",
      "  23.   20.7  12.5  48.5  14.6  13.4  23.7  50.   21.7  39.8  38.7  22.2\n",
      "  34.9  22.5  31.1  28.7  46.   41.7  21.   26.6  15.   24.4  13.3  21.2\n",
      "  11.7  21.7  19.4  50.   22.8  19.7  24.7  36.2  14.2  18.9  18.3  20.6\n",
      "  24.6  18.2   8.7  44.   10.4  13.2  21.2  37.   30.7  22.9  20.   19.3\n",
      "  31.7  32.   23.1  18.8  10.9  50.   19.6   5.   14.4  19.8  13.8  19.6\n",
      "  23.9  24.5  25.   19.9  17.2  24.6  13.5  26.6  21.4  11.9  22.6  19.6\n",
      "   8.5  23.7  23.1  22.4  20.5  23.6  18.4  35.2  23.1  27.9  20.6  23.7\n",
      "  28.   13.6  27.1  23.6  20.6  18.2  21.7  17.1   8.4  25.3  13.8  22.2\n",
      "  18.4  20.7  31.6  30.5  20.3   8.8  19.2  19.4  23.1  23.   14.8  48.8\n",
      "  22.6  33.4  21.1  13.6  32.2  13.1  23.4  18.9  23.9  11.8  23.3  22.8\n",
      "  19.6  16.7  13.4  22.2  20.4  21.8  26.4  14.9  24.1  23.8  12.3  29.1\n",
      "  21.   19.5  23.3  23.8  17.8  11.5  21.7  19.9  25.   33.4  28.5  21.4\n",
      "  24.3  27.5  33.1  16.2  23.3  48.3  22.9  22.8  13.1  12.7  22.6  15.\n",
      "  15.3  10.5  24.   18.5  21.7  19.5  33.2  23.2   5.   19.1  12.7  22.3\n",
      "  10.2  13.9  16.3  17.   20.1  29.9  17.2  37.3  45.4  17.8  23.2  29.\n",
      "  22.   18.   17.4  34.6  20.1  25.   15.6  24.8  28.2  21.2  21.4  23.8\n",
      "  31.   26.2  17.4  37.9  17.5  20.    8.3  23.9   8.4  13.8   7.2  11.7\n",
      "  17.1  21.6  50.   16.1  20.4  20.6  21.4  20.6  36.5   8.5  24.8  10.8\n",
      "  21.9  17.3  18.9  36.2  14.9  18.2  33.3  21.8  19.7  31.6  24.8  19.4\n",
      "  22.8   7.5  44.8  16.8  18.7  50.   50.   19.5  20.1  50.   17.2  20.8\n",
      "  19.3  41.3  20.4  20.5  13.8  16.5  23.9  20.6  31.5  23.3  16.8  14.\n",
      "  33.8  36.1  12.8  18.3  18.7  19.1  29.   30.1  50.   50.   22.   11.9\n",
      "  37.6  50.   22.7  20.8  23.5  27.9  50.   19.3  23.9  22.6  15.2  21.7\n",
      "  19.2  43.8  20.3  33.2  19.9  22.5  32.7  22.   17.1  19.   15.   16.1\n",
      "  25.1  23.7  28.7  37.2  22.6  16.4  25.   29.8  22.1  17.4  18.1  30.3\n",
      "  17.5  24.7  12.6  26.5  28.7  13.3  10.4  24.4  23.   20.   17.8   7.\n",
      "  11.8  24.4  13.8  19.4  25.2  19.4  19.4  29.1]\n",
      "[   1.23247    0.         8.14       0.         0.538      6.142     91.7\n",
      "    3.9769     4.       307.        21.       396.9       18.72   ]\n"
     ]
    }
   ],
   "source": [
    "print(train_data.ndim)\n",
    "print(train_data.shape)\n",
    "print(train_data.dtype)\n",
    "print(train_targets)\n",
    "print(train_data[0])"
   ]
  },
  {
   "cell_type": "code",
   "execution_count": 4,
   "metadata": {},
   "outputs": [],
   "source": [
    "mean = train_data.mean(axis=0)\n",
    "train_data -= mean\n",
    "std = train_data.std(axis=0)\n",
    "train_data /= std\n",
    "\n",
    "test_data -= mean\n",
    "test_data /= std"
   ]
  },
  {
   "cell_type": "code",
   "execution_count": 5,
   "metadata": {},
   "outputs": [],
   "source": [
    "from keras import models,layers\n",
    "\n",
    "def build_model():\n",
    "    model = models.Sequential()\n",
    "    \n",
    "    model.add(layers.Dense(64, activation='relu', input_shape=(train_data.shape[1],)))\n",
    "    model.add(layers.Dense(64, activation='relu'))\n",
    "    model.add(layers.Dense(1))\n",
    "    model.compile(optimizer=\"rmsprop\", loss=\"mse\", metrics=['mae'])\n",
    "    return model"
   ]
  },
  {
   "cell_type": "code",
   "execution_count": 28,
   "metadata": {},
   "outputs": [],
   "source": [
    "import numpy as np\n",
    "\n",
    "k = 4\n",
    "num_val_samples = len(train_data)//4\n",
    "num_epochs = 500"
   ]
  },
  {
   "cell_type": "code",
   "execution_count": 30,
   "metadata": {},
   "outputs": [
    {
     "name": "stdout",
     "output_type": "stream",
     "text": [
      "processing fold #  1\n",
      "processing fold #  2\n",
      "processing fold #  3\n",
      "processing fold #  4\n",
      "K fold validation finished\n"
     ]
    }
   ],
   "source": [
    "all_scores = []\n",
    "\n",
    "for i in range(k):\n",
    "    print('processing fold # ',i+1)\n",
    "    val_data = train_data[i*num_val_samples:(i+1)*num_val_samples]\n",
    "    val_targets = train_targets[i*num_val_samples:(i+1)*num_val_samples]\n",
    "    \n",
    "    partial_train_data = np.concatenate([train_data[:i*num_val_samples], train_data[(i+1)*num_val_samples:]], \n",
    "                                        axis=0)\n",
    "    partial_train_targets = np.concatenate([train_targets[:i*num_val_samples],\n",
    "                                          train_targets[(i+1)*num_val_samples:]], \n",
    "                                           axis=0)\n",
    "    \n",
    "    model = build_model()\n",
    "    history = model.fit(partial_train_data, partial_train_targets, epochs=num_epochs, batch_size=1, verbose=0, \n",
    "                       validation_data=(val_data,val_targets))\n",
    "    mae_history = history.history['val_mean_absolute_error']\n",
    "    all_scores.append(mae_history)\n",
    "    \n",
    "print(\"K fold validation finished\")"
   ]
  },
  {
   "cell_type": "code",
   "execution_count": 45,
   "metadata": {},
   "outputs": [],
   "source": [
    "avg_mae_histories = [\n",
    "    np.mean([x[i] for x in all_scores]) for i in range(num_epochs)\n",
    "]"
   ]
  },
  {
   "cell_type": "code",
   "execution_count": 46,
   "metadata": {},
   "outputs": [
    {
     "data": {
      "text/plain": [
       "Text(0,0.5,'MAE')"
      ]
     },
     "execution_count": 46,
     "metadata": {},
     "output_type": "execute_result"
    },
    {
     "data": {
      "image/png": "[encoded data removed]",
      "text/plain": [
       "<matplotlib.figure.Figure at 0xe0dcb203c8>"
      ]
     },
     "metadata": {},
     "output_type": "display_data"
    }
   ],
   "source": [
    "def smooth(points, factor=0.9):\n",
    "    smp = []\n",
    "    for point in points:\n",
    "        if smp:\n",
    "            prev = smp[-1]\n",
    "            smp.append(prev*factor + point*(1-factor))\n",
    "        else:\n",
    "            smp.append(point)\n",
    "\n",
    "    return smp\n",
    "\n",
    "avg_mae_histories = smooth(avg_mae_histories[12:])\n",
    "\n",
    "import matplotlib.pyplot as plt\n",
    "%matplotlib inline\n",
    "\n",
    "plt.plot(range(1, len(avg_mae_histories)+1), avg_mae_histories)\n",
    "plt.xlabel('Epochs')\n",
    "plt.ylabel('MAE')"
   ]
  },
  {
   "cell_type": "code",
   "execution_count": 38,
   "metadata": {},
   "outputs": [
    {
     "name": "stdout",
     "output_type": "stream",
     "text": [
      "102/102 [==============================] - 0s 2ms/step\n"
     ]
    },
    {
     "data": {
      "text/plain": [
       "[16.492712731454887, 2.5588560758852492]"
      ]
     },
     "execution_count": 38,
     "metadata": {},
     "output_type": "execute_result"
    }
   ],
   "source": [
    "model = build_model()\n",
    "model.fit(train_data, train_targets, epochs=80, batch_size=16, verbose=0)\n",
    "model.evaluate(test_data,test_targets)"
   ]
  },
  {
   "cell_type": "code",
   "execution_count": null,
   "metadata": {},
   "outputs": [],
   "source": []
  }
 ],
 "metadata": {
  "kernelspec": {
   "display_name": "Python 3",
   "language": "python",
   "name": "python3"
  },
  "language_info": {
   "codemirror_mode": {
    "name": "ipython",
    "version": 3
   },
   "file_extension": ".py",
   "mimetype": "text/x-python",
   "name": "python",
   "nbconvert_exporter": "python",
   "pygments_lexer": "ipython3",
   "version": "3.6.4"
  }
 },
 "nbformat": 4,
 "nbformat_minor": 2
}
