{
 "cells": [
  {
   "cell_type": "code",
   "execution_count": 1,
   "metadata": {},
   "outputs": [
    {
     "name": "stderr",
     "output_type": "stream",
     "text": [
      "Using TensorFlow backend.\n"
     ]
    },
    {
     "name": "stdout",
     "output_type": "stream",
     "text": [
      "loading data...\n",
      "25000 train sequeces\n",
      "25000 test sequeces\n",
      "train data shape: (25000, 500)\n",
      "test data shape: (25000, 500)\n"
     ]
    }
   ],
   "source": [
    "from keras.datasets import imdb\n",
    "from keras.preprocessing.sequence import pad_sequences\n",
    "\n",
    "max_features = 10000\n",
    "max_len = 500\n",
    "batch_size = 32\n",
    "\n",
    "print('loading data...')\n",
    "(train_data,train_labels),(test_data,test_labels) = imdb.load_data(num_words=max_features)\n",
    "\n",
    "print(len(train_data),'train sequeces')\n",
    "print(len(test_data),'test sequeces')\n",
    "\n",
    "train_data = pad_sequences(train_data, maxlen=max_len)\n",
    "test_data = pad_sequences(test_data, maxlen=max_len)\n",
    "\n",
    "print('train data shape:',train_data.shape)\n",
    "print('test data shape:',test_data.shape)"
   ]
  },
  {
   "cell_type": "code",
   "execution_count": 2,
   "metadata": {},
   "outputs": [
    {
     "name": "stdout",
     "output_type": "stream",
     "text": [
      "_________________________________________________________________\n",
      "Layer (type)                 Output Shape              Param #   \n",
      "=================================================================\n",
      "embedding_1 (Embedding)      (None, 500, 128)          1280000   \n",
      "_________________________________________________________________\n",
      "conv1d_1 (Conv1D)            (None, 494, 32)           28704     \n",
      "_________________________________________________________________\n",
      "max_pooling1d_1 (MaxPooling1 (None, 98, 32)            0         \n",
      "_________________________________________________________________\n",
      "conv1d_2 (Conv1D)            (None, 92, 32)            7200      \n",
      "_________________________________________________________________\n",
      "global_max_pooling1d_1 (Glob (None, 32)                0         \n",
      "_________________________________________________________________\n",
      "dense_1 (Dense)              (None, 1)                 33        \n",
      "=================================================================\n",
      "Total params: 1,315,937\n",
      "Trainable params: 1,315,937\n",
      "Non-trainable params: 0\n",
      "_________________________________________________________________\n",
      "Train on 20000 samples, validate on 5000 samples\n",
      "Epoch 1/10\n",
      "20000/20000 [==============================] - 92s 5ms/step - loss: 0.5196 - acc: 0.7262 - val_loss: 0.3483 - val_acc: 0.8510\n",
      "Epoch 2/10\n",
      "20000/20000 [==============================] - 94s 5ms/step - loss: 0.2725 - acc: 0.8892 - val_loss: 0.2946 - val_acc: 0.8802\n",
      "Epoch 3/10\n",
      "20000/20000 [==============================] - 96s 5ms/step - loss: 0.1985 - acc: 0.9224 - val_loss: 0.3956 - val_acc: 0.8418\n",
      "Epoch 4/10\n",
      "20000/20000 [==============================] - 96s 5ms/step - loss: 0.1468 - acc: 0.9475 - val_loss: 0.3225 - val_acc: 0.8760\n",
      "Epoch 5/10\n",
      "20000/20000 [==============================] - 96s 5ms/step - loss: 0.1018 - acc: 0.9651 - val_loss: 0.3589 - val_acc: 0.8762\n",
      "Epoch 6/10\n",
      "20000/20000 [==============================] - 97s 5ms/step - loss: 0.0667 - acc: 0.9785 - val_loss: 0.3907 - val_acc: 0.8700\n",
      "Epoch 7/10\n",
      "20000/20000 [==============================] - 97s 5ms/step - loss: 0.0377 - acc: 0.9894 - val_loss: 0.5555 - val_acc: 0.8520\n",
      "Epoch 8/10\n",
      "20000/20000 [==============================] - 97s 5ms/step - loss: 0.0185 - acc: 0.9953 - val_loss: 0.5456 - val_acc: 0.8660\n",
      "Epoch 9/10\n",
      "20000/20000 [==============================] - 98s 5ms/step - loss: 0.0078 - acc: 0.9985 - val_loss: 0.5936 - val_acc: 0.8692\n",
      "Epoch 10/10\n",
      "20000/20000 [==============================] - 101s 5ms/step - loss: 0.0040 - acc: 0.9991 - val_loss: 0.6570 - val_acc: 0.8678\n"
     ]
    }
   ],
   "source": [
    "from keras.models import Sequential\n",
    "from keras import layers\n",
    "from keras.optimizers import RMSprop\n",
    "\n",
    "model = Sequential()\n",
    "model.add(layers.Embedding(max_features,128, input_length=max_len))\n",
    "model.add(layers.Conv1D(32, 7, activation='relu'))\n",
    "model.add(layers.MaxPooling1D(5))\n",
    "model.add(layers.Conv1D(32, 7, activation='relu'))\n",
    "model.add(layers.GlobalMaxPooling1D())\n",
    "model.add(layers.Dense(1 ,activation='sigmoid'))\n",
    "\n",
    "model.summary()\n",
    "\n",
    "model.compile(loss='binary_crossentropy', optimizer='rmsprop', metrics=['acc'])\n",
    "\n",
    "history = model.fit(train_data, train_labels, epochs=10, batch_size=128, validation_split=0.2)"
   ]
  },
  {
   "cell_type": "code",
   "execution_count": 3,
   "metadata": {},
   "outputs": [
    {
     "name": "stdout",
     "output_type": "stream",
     "text": [
      "dict_keys(['val_loss', 'val_acc', 'loss', 'acc'])\n"
     ]
    },
    {
     "data": {
      "text/plain": [
       "<matplotlib.legend.Legend at 0xe411aaaba8>"
      ]
     },
     "execution_count": 3,
     "metadata": {},
     "output_type": "execute_result"
    },
    {
     "data": {
      "image/png": "[encoded data removed]",
      "text/plain": [
       "<matplotlib.figure.Figure at 0xe40836c7b8>"
      ]
     },
     "metadata": {},
     "output_type": "display_data"
    }
   ],
   "source": [
    "import matplotlib.pyplot as plt\n",
    "%matplotlib inline\n",
    "\n",
    "history_dict = history.history\n",
    "print(history_dict.keys())\n",
    "\n",
    "epochs = range(1,len(history_dict['acc'])+1)\n",
    "\n",
    "acc_values = history_dict['acc']\n",
    "val_acc_values = history_dict['val_acc']\n",
    "\n",
    "plt.plot(epochs, acc_values,'bo', label='Training accuracy')\n",
    "plt.plot(epochs, val_acc_values,'b', label='Validation accuracy')\n",
    "plt.title('Training & Validation accuracy')\n",
    "plt.xlabel('Epochs')\n",
    "plt.ylabel('Accuracy')\n",
    "plt.legend()"
   ]
  },
  {
   "cell_type": "code",
   "execution_count": 4,
   "metadata": {},
   "outputs": [
    {
     "data": {
      "text/plain": [
       "<matplotlib.legend.Legend at 0xe4194a3208>"
      ]
     },
     "execution_count": 4,
     "metadata": {},
     "output_type": "execute_result"
    },
    {
     "data": {
      "image/png": "[encoded data removed]",
      "text/plain": [
       "<matplotlib.figure.Figure at 0xe411a79dd8>"
      ]
     },
     "metadata": {},
     "output_type": "display_data"
    }
   ],
   "source": [
    "loss_values = history_dict['loss']\n",
    "val_loss_values = history_dict['val_loss']\n",
    "\n",
    "epochs = range(1,len(history_dict['loss'])+1)\n",
    "\n",
    "plt.plot(epochs, loss_values,'bo', label='Training Loss')\n",
    "plt.plot(epochs, val_loss_values,'b', label='Validation Loss')\n",
    "plt.title('Training & Validation Losses')\n",
    "plt.xlabel('Epochs')\n",
    "plt.ylabel('Loss')\n",
    "plt.legend()"
   ]
  },
  {
   "cell_type": "code",
   "execution_count": null,
   "metadata": {},
   "outputs": [],
   "source": []
  }
 ],
 "metadata": {
  "kernelspec": {
   "display_name": "Python 3",
   "language": "python",
   "name": "python3"
  },
  "language_info": {
   "codemirror_mode": {
    "name": "ipython",
    "version": 3
   },
   "file_extension": ".py",
   "mimetype": "text/x-python",
   "name": "python",
   "nbconvert_exporter": "python",
   "pygments_lexer": "ipython3",
   "version": "3.6.4"
  }
 },
 "nbformat": 4,
 "nbformat_minor": 2
}
