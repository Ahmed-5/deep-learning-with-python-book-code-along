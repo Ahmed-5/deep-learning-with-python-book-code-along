{
 "cells": [
  {
   "cell_type": "code",
   "execution_count": 1,
   "metadata": {},
   "outputs": [
    {
     "name": "stdout",
     "output_type": "stream",
     "text": [
      "\"Date Time\"\n",
      "\"p (mbar)\"\n",
      "\"T (degC)\"\n",
      "\"Tpot (K)\"\n",
      "\"Tdew (degC)\"\n",
      "\"rh (%)\"\n",
      "\"VPmax (mbar)\"\n",
      "\"VPact (mbar)\"\n",
      "\"VPdef (mbar)\"\n",
      "\"sh (g/kg)\"\n",
      "\"H2OC (mmol/mol)\"\n",
      "\"rho (g/m**3)\"\n",
      "\"wv (m/s)\"\n",
      "\"max. wv (m/s)\"\n",
      "\"wd (deg)\"\n",
      "420551\n"
     ]
    }
   ],
   "source": [
    "import os \n",
    "fname = './jena_climate_2009_2016.csv'\n",
    "\n",
    "f = open(fname)\n",
    "data = f.read()\n",
    "f.close()\n",
    "\n",
    "lines = data.split('\\n')\n",
    "headers = lines[0].split(',')\n",
    "lines = lines[1:]\n",
    "\n",
    "print('\\n'.join(headers))\n",
    "print(len(lines))"
   ]
  },
  {
   "cell_type": "code",
   "execution_count": 2,
   "metadata": {},
   "outputs": [],
   "source": [
    "import numpy as np\n",
    "\n",
    "float_data = np.zeros((len(lines), len(headers)-1))\n",
    "for i,line in enumerate(lines):\n",
    "    values = [float(x) for x in line.split(',')[1:]]\n",
    "    float_data[i, :] = values"
   ]
  },
  {
   "cell_type": "code",
   "execution_count": 3,
   "metadata": {},
   "outputs": [],
   "source": [
    "mean = float_data[:200_000].mean(axis=0)\n",
    "float_data -= mean\n",
    "std = float_data[:200_000].std(axis=0)\n",
    "float_data /= std"
   ]
  },
  {
   "cell_type": "code",
   "execution_count": 4,
   "metadata": {},
   "outputs": [],
   "source": [
    "def generator(data, lookback, delay, min_index, max_index, shuffle=False, batch_size=128, step=6):\n",
    "    if max_index==None:\n",
    "        max_index = len(data) - delay - 1\n",
    "    i = min_index + lookback\n",
    "    \n",
    "    while 1:\n",
    "        if shuffle:\n",
    "            rows = np.random.randint(min_index+lookback , max_index, size=batch_size)\n",
    "        else :\n",
    "            if i + batch_size >= max_index:\n",
    "                i = min_index + lookback\n",
    "            rows = np.arange(i , min(i+batch_size, max_index))\n",
    "            i += len(rows)\n",
    "        \n",
    "        samples = np.zeros((len(rows), lookback//step, data.shape[-1]))\n",
    "        targets = np.zeros(len(rows),)\n",
    "        \n",
    "        for j,row in enumerate(rows):\n",
    "            indices = range(rows[j]-lookback, rows[j], step)\n",
    "            samples[j] = data[indices]\n",
    "            targets[j] = data[rows[j]+delay][1]\n",
    "        yield samples,targets"
   ]
  },
  {
   "cell_type": "code",
   "execution_count": 5,
   "metadata": {},
   "outputs": [],
   "source": [
    "lookback = 720\n",
    "step = 3\n",
    "delay = 144\n",
    "batch_size = 128\n",
    "\n",
    "train_gen = generator(float_data, lookback=lookback, min_index=0, max_index=200_000,shuffle=True, batch_size=batch_size, step=step, delay=delay)\n",
    "val_gen = generator(float_data, lookback=lookback, min_index=200_001, max_index=300_000, batch_size=batch_size, step=step, delay=delay)\n",
    "test_gen = generator(float_data, lookback=lookback, min_index=300_001, max_index=None, batch_size=batch_size, step=step, delay=delay)\n",
    "\n",
    "val_steps = 300_000 - 200_001 - lookback\n",
    "test_steps = len(float_data) - 300_001 - lookback"
   ]
  },
  {
   "cell_type": "code",
   "execution_count": 10,
   "metadata": {},
   "outputs": [
    {
     "name": "stdout",
     "output_type": "stream",
     "text": [
      "_________________________________________________________________\n",
      "Layer (type)                 Output Shape              Param #   \n",
      "=================================================================\n",
      "conv1d_7 (Conv1D)            (None, None, 32)          2272      \n",
      "_________________________________________________________________\n",
      "max_pooling1d_4 (MaxPooling1 (None, None, 32)          0         \n",
      "_________________________________________________________________\n",
      "conv1d_8 (Conv1D)            (None, None, 32)          5152      \n",
      "_________________________________________________________________\n",
      "max_pooling1d_5 (MaxPooling1 (None, None, 32)          0         \n",
      "_________________________________________________________________\n",
      "conv1d_9 (Conv1D)            (None, None, 32)          5152      \n",
      "_________________________________________________________________\n",
      "global_max_pooling1d_4 (Glob (None, 32)                0         \n",
      "_________________________________________________________________\n",
      "dense_4 (Dense)              (None, 1)                 33        \n",
      "=================================================================\n",
      "Total params: 12,609\n",
      "Trainable params: 12,609\n",
      "Non-trainable params: 0\n",
      "_________________________________________________________________\n",
      "Epoch 1/20\n",
      "500/500 [==============================] - 61s 121ms/step - loss: 0.4172 - val_loss: 0.4552\n",
      "Epoch 2/20\n",
      "500/500 [==============================] - 62s 125ms/step - loss: 0.3559 - val_loss: 0.4501\n",
      "Epoch 3/20\n",
      "500/500 [==============================] - 63s 127ms/step - loss: 0.3305 - val_loss: 0.4678\n",
      "Epoch 4/20\n",
      "500/500 [==============================] - 64s 127ms/step - loss: 0.3192 - val_loss: 0.4383\n",
      "Epoch 5/20\n",
      "500/500 [==============================] - 64s 128ms/step - loss: 0.3034 - val_loss: 0.4485\n",
      "Epoch 6/20\n",
      "500/500 [==============================] - 64s 128ms/step - loss: 0.2913 - val_loss: 0.4501\n",
      "Epoch 7/20\n",
      "500/500 [==============================] - 65s 129ms/step - loss: 0.2849 - val_loss: 0.4464\n",
      "Epoch 8/20\n",
      "500/500 [==============================] - 64s 128ms/step - loss: 0.2777 - val_loss: 0.4502\n",
      "Epoch 9/20\n",
      "500/500 [==============================] - 64s 129ms/step - loss: 0.2738 - val_loss: 0.4512\n",
      "Epoch 10/20\n",
      "500/500 [==============================] - 65s 130ms/step - loss: 0.2689 - val_loss: 0.4603\n",
      "Epoch 11/20\n",
      "500/500 [==============================] - 65s 130ms/step - loss: 0.2653 - val_loss: 0.4613\n",
      "Epoch 12/20\n",
      "500/500 [==============================] - 65s 130ms/step - loss: 0.2616 - val_loss: 0.4553\n",
      "Epoch 13/20\n",
      "500/500 [==============================] - 65s 130ms/step - loss: 0.2572 - val_loss: 0.4723\n",
      "Epoch 14/20\n",
      "500/500 [==============================] - 65s 130ms/step - loss: 0.2552 - val_loss: 0.4431\n",
      "Epoch 15/20\n",
      "500/500 [==============================] - 65s 130ms/step - loss: 0.2508 - val_loss: 0.4518\n",
      "Epoch 16/20\n",
      "500/500 [==============================] - 65s 131ms/step - loss: 0.2484 - val_loss: 0.4541\n",
      "Epoch 17/20\n",
      "500/500 [==============================] - 65s 130ms/step - loss: 0.2458 - val_loss: 0.4869\n",
      "Epoch 18/20\n",
      "500/500 [==============================] - 65s 130ms/step - loss: 0.2465 - val_loss: 0.4463\n",
      "Epoch 19/20\n",
      "500/500 [==============================] - 65s 130ms/step - loss: 0.2425 - val_loss: 0.4351\n",
      "Epoch 20/20\n",
      "500/500 [==============================] - 65s 130ms/step - loss: 0.2415 - val_loss: 0.4710\n"
     ]
    }
   ],
   "source": [
    "from keras.models import Sequential\n",
    "from keras import layers\n",
    "from keras.optimizers import RMSprop\n",
    "\n",
    "model = Sequential()\n",
    "model.add(layers.Conv1D(32, 5, activation='relu', input_shape=(None, float_data.shape[-1])))\n",
    "model.add(layers.MaxPooling1D(3))\n",
    "model.add(layers.Conv1D(32, 5, activation='relu'))\n",
    "model.add(layers.MaxPooling1D(3))\n",
    "model.add(layers.Conv1D(32, 5, activation='relu'))\n",
    "model.add(layers.GlobalMaxPooling1D())\n",
    "model.add(layers.Dense(1))\n",
    "\n",
    "model.summary()\n",
    "\n",
    "model.compile(loss='mae', optimizer=RMSprop())\n",
    "\n",
    "history = model.fit_generator(train_gen, steps_per_epoch=500, epochs=20, validation_data = val_gen, validation_steps=val_steps//100)"
   ]
  },
  {
   "cell_type": "code",
   "execution_count": 11,
   "metadata": {},
   "outputs": [
    {
     "name": "stdout",
     "output_type": "stream",
     "text": [
      "dict_keys(['val_loss', 'loss'])\n"
     ]
    },
    {
     "data": {
      "text/plain": [
       "<matplotlib.legend.Legend at 0xa983a406a0>"
      ]
     },
     "execution_count": 11,
     "metadata": {},
     "output_type": "execute_result"
    },
    {
     "data": {
      "image/png": "[encoded data removed]",
      "text/plain": [
       "<matplotlib.figure.Figure at 0xa98a0a1c18>"
      ]
     },
     "metadata": {},
     "output_type": "display_data"
    }
   ],
   "source": [
    "import matplotlib.pyplot as plt\n",
    "%matplotlib inline\n",
    "\n",
    "history_dict = history.history\n",
    "print(history_dict.keys())\n",
    "\n",
    "loss_values = history_dict['loss']\n",
    "val_loss_values = history_dict['val_loss']\n",
    "\n",
    "epochs = range(1,len(history_dict['loss'])+1)\n",
    "\n",
    "plt.plot(epochs, loss_values,'bo', label='Training Loss')\n",
    "plt.plot(epochs, val_loss_values,'b', label='Validation Loss')\n",
    "plt.title('Training & Validation Losses')\n",
    "plt.xlabel('Epochs')\n",
    "plt.ylabel('Loss')\n",
    "plt.legend()"
   ]
  },
  {
   "cell_type": "code",
   "execution_count": 14,
   "metadata": {},
   "outputs": [],
   "source": [
    "lookback = 720\n",
    "step = 3\n",
    "delay = 144\n",
    "batch_size = 128\n",
    "\n",
    "train_gen = generator(float_data, lookback=lookback, min_index=0, max_index=200_000,shuffle=True, batch_size=batch_size, step=step, delay=delay)\n",
    "val_gen = generator(float_data, lookback=lookback, min_index=200_001, max_index=300_000, batch_size=batch_size, step=step, delay=delay)\n",
    "test_gen = generator(float_data, lookback=lookback, min_index=300_001, max_index=None, batch_size=batch_size, step=step, delay=delay)\n",
    "\n",
    "val_steps = (300_000 - 200_001 - lookback)//128\n",
    "test_steps = (len(float_data) - 300_001 - lookback)//128"
   ]
  },
  {
   "cell_type": "code",
   "execution_count": 15,
   "metadata": {},
   "outputs": [
    {
     "name": "stdout",
     "output_type": "stream",
     "text": [
      "_________________________________________________________________\n",
      "Layer (type)                 Output Shape              Param #   \n",
      "=================================================================\n",
      "conv1d_12 (Conv1D)           (None, None, 32)          2272      \n",
      "_________________________________________________________________\n",
      "max_pooling1d_7 (MaxPooling1 (None, None, 32)          0         \n",
      "_________________________________________________________________\n",
      "conv1d_13 (Conv1D)           (None, None, 32)          5152      \n",
      "_________________________________________________________________\n",
      "gru_2 (GRU)                  (None, 32)                6240      \n",
      "_________________________________________________________________\n",
      "dense_6 (Dense)              (None, 1)                 33        \n",
      "=================================================================\n",
      "Total params: 13,697\n",
      "Trainable params: 13,697\n",
      "Non-trainable params: 0\n",
      "_________________________________________________________________\n",
      "Epoch 1/20\n",
      "500/500 [==============================] - 89s 179ms/step - loss: 0.3373 - val_loss: 0.2910\n",
      "Epoch 2/20\n",
      "500/500 [==============================] - 91s 181ms/step - loss: 0.3062 - val_loss: 0.2842\n",
      "Epoch 3/20\n",
      "500/500 [==============================] - 92s 185ms/step - loss: 0.2926 - val_loss: 0.2906\n",
      "Epoch 4/20\n",
      "500/500 [==============================] - 92s 184ms/step - loss: 0.2860 - val_loss: 0.2819\n",
      "Epoch 5/20\n",
      "500/500 [==============================] - 93s 186ms/step - loss: 0.2784 - val_loss: 0.2848\n",
      "Epoch 6/20\n",
      "500/500 [==============================] - 93s 186ms/step - loss: 0.2735 - val_loss: 0.2760\n",
      "Epoch 7/20\n",
      "500/500 [==============================] - 92s 183ms/step - loss: 0.2667 - val_loss: 0.2834\n",
      "Epoch 8/20\n",
      "500/500 [==============================] - 92s 185ms/step - loss: 0.2624 - val_loss: 0.2824\n",
      "Epoch 9/20\n",
      "500/500 [==============================] - 93s 186ms/step - loss: 0.2594 - val_loss: 0.2996\n",
      "Epoch 10/20\n",
      "500/500 [==============================] - 94s 189ms/step - loss: 0.2557 - val_loss: 0.2768\n",
      "Epoch 11/20\n",
      "500/500 [==============================] - 93s 186ms/step - loss: 0.2511 - val_loss: 0.2799\n",
      "Epoch 12/20\n",
      "500/500 [==============================] - 93s 187ms/step - loss: 0.2483 - val_loss: 0.2833\n",
      "Epoch 13/20\n",
      "500/500 [==============================] - 92s 184ms/step - loss: 0.2449 - val_loss: 0.2813\n",
      "Epoch 14/20\n",
      "500/500 [==============================] - 92s 183ms/step - loss: 0.2410 - val_loss: 0.2817\n",
      "Epoch 15/20\n",
      "500/500 [==============================] - 91s 182ms/step - loss: 0.2380 - val_loss: 0.2922\n",
      "Epoch 16/20\n",
      "500/500 [==============================] - 92s 183ms/step - loss: 0.2357 - val_loss: 0.2900\n",
      "Epoch 17/20\n",
      "500/500 [==============================] - 91s 182ms/step - loss: 0.2318 - val_loss: 0.2866\n",
      "Epoch 18/20\n",
      "500/500 [==============================] - 91s 183ms/step - loss: 0.2301 - val_loss: 0.2918\n",
      "Epoch 19/20\n",
      "500/500 [==============================] - 91s 182ms/step - loss: 0.2288 - val_loss: 0.2962\n",
      "Epoch 20/20\n",
      "500/500 [==============================] - 92s 184ms/step - loss: 0.2248 - val_loss: 0.2968\n"
     ]
    }
   ],
   "source": [
    "model = Sequential()\n",
    "model.add(layers.Conv1D(32, 5, activation='relu', input_shape=(None, float_data.shape[-1])))\n",
    "model.add(layers.MaxPooling1D(3))\n",
    "model.add(layers.Conv1D(32, 5, activation='relu'))\n",
    "model.add(layers.GRU(32, dropout=0.1, recurrent_dropout=0.5))\n",
    "model.add(layers.Dense(1))\n",
    "\n",
    "model.summary()\n",
    "\n",
    "model.compile(loss='mae', optimizer=RMSprop())\n",
    "\n",
    "history = model.fit_generator(train_gen, steps_per_epoch=500, epochs=20, validation_data = val_gen, validation_steps=val_steps)"
   ]
  },
  {
   "cell_type": "code",
   "execution_count": 16,
   "metadata": {},
   "outputs": [
    {
     "name": "stdout",
     "output_type": "stream",
     "text": [
      "dict_keys(['val_loss', 'loss'])\n"
     ]
    },
    {
     "data": {
      "text/plain": [
       "<matplotlib.legend.Legend at 0xa9948beb38>"
      ]
     },
     "execution_count": 16,
     "metadata": {},
     "output_type": "execute_result"
    },
    {
     "data": {
      "image/png": "[encoded data removed]",
      "text/plain": [
       "<matplotlib.figure.Figure at 0xa991ece2b0>"
      ]
     },
     "metadata": {},
     "output_type": "display_data"
    }
   ],
   "source": [
    "history_dict = history.history\n",
    "print(history_dict.keys())\n",
    "\n",
    "loss_values = history_dict['loss']\n",
    "val_loss_values = history_dict['val_loss']\n",
    "\n",
    "epochs = range(1,len(history_dict['loss'])+1)\n",
    "\n",
    "plt.plot(epochs, loss_values,'bo', label='Training Loss')\n",
    "plt.plot(epochs, val_loss_values,'b', label='Validation Loss')\n",
    "plt.title('Training & Validation Losses')\n",
    "plt.xlabel('Epochs')\n",
    "plt.ylabel('Loss')\n",
    "plt.legend()"
   ]
  },
  {
   "cell_type": "code",
   "execution_count": null,
   "metadata": {},
   "outputs": [],
   "source": []
  }
 ],
 "metadata": {
  "kernelspec": {
   "display_name": "Python 3",
   "language": "python",
   "name": "python3"
  },
  "language_info": {
   "codemirror_mode": {
    "name": "ipython",
    "version": 3
   },
   "file_extension": ".py",
   "mimetype": "text/x-python",
   "name": "python",
   "nbconvert_exporter": "python",
   "pygments_lexer": "ipython3",
   "version": "3.6.4"
  }
 },
 "nbformat": 4,
 "nbformat_minor": 2
}
